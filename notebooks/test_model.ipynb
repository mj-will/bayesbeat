{
 "cells": [
  {
   "cell_type": "code",
   "execution_count": null,
   "metadata": {},
   "outputs": [],
   "source": [
    "import numpy as np\n",
    "import matplotlib.pyplot as plt\n",
    "import seaborn as sns\n",
    "from scipy import signal\n",
    "\n",
    "sns.set_context(\"notebook\")\n",
    "sns.set_style(\"ticks\")\n",
    "sns.set_palette(\"colorblind\")"
   ]
  },
  {
   "cell_type": "code",
   "execution_count": null,
   "metadata": {},
   "outputs": [],
   "source": [
    "def decaying_sinusoid(t, amp, decay, frequency, phase):\n",
    "    return amp * np.exp(-decay * t) * np.sin(2 * np.pi * frequency * t + phase)"
   ]
  },
  {
   "cell_type": "code",
   "execution_count": null,
   "metadata": {},
   "outputs": [],
   "source": [
    "t_obs = 100\n",
    "fs = 20_000\n",
    "nperfft = fs // 2\n",
    "time = np.linspace(0, t_obs, int(fs * t_obs))\n",
    "\n",
    "f_1 = 2800.0\n",
    "f_2 = 2801.0"
   ]
  },
  {
   "cell_type": "code",
   "execution_count": null,
   "metadata": {},
   "outputs": [],
   "source": [
    "sig_1 = decaying_sinusoid(time, 50, 0.05, f_1, np.pi / 4)\n",
    "sig_2 = decaying_sinusoid(time, 51, 0.1001, f_2, np.pi / 4)"
   ]
  },
  {
   "cell_type": "code",
   "execution_count": null,
   "metadata": {},
   "outputs": [],
   "source": [
    "sig = sig_1 + sig_2\n",
    "noisy = sig + 1 * np.random.randn(sig.size)"
   ]
  },
  {
   "cell_type": "code",
   "execution_count": null,
   "metadata": {},
   "outputs": [],
   "source": [
    "plt.plot(time, noisy)\n",
    "plt.plot(time, sig)\n",
    "plt.xlabel(\"Time [s]\")\n",
    "plt.ylabel(\"Amplitude\")\n",
    "plt.show()"
   ]
  },
  {
   "cell_type": "code",
   "execution_count": null,
   "metadata": {},
   "outputs": [],
   "source": [
    "psd = np.abs(np.fft.rfft(sig)) ** 2\n",
    "freqs = np.fft.rfftfreq(len(sig), d=1 / fs)\n",
    "idx = np.argsort(freqs)"
   ]
  },
  {
   "cell_type": "code",
   "execution_count": null,
   "metadata": {},
   "outputs": [],
   "source": [
    "plt.plot(freqs[idx], psd[idx])\n",
    "plt.xlabel(\"Frequency [Hz]\")\n",
    "plt.ylabel(\"PSD\")\n",
    "plt.show()"
   ]
  },
  {
   "cell_type": "code",
   "execution_count": null,
   "metadata": {},
   "outputs": [],
   "source": [
    "f, t, Zxx = signal.stft(sig, fs=fs, nperseg=nperfft, noverlap=0, scaling=\"psd\")\n",
    "f_n, t_n, Zxx_n = signal.stft(noisy, fs=fs, nperseg=nperfft, noverlap=0, scaling=\"psd\")"
   ]
  },
  {
   "cell_type": "code",
   "execution_count": null,
   "metadata": {},
   "outputs": [],
   "source": [
    "print(\"Frequency bins, time steps: \", Zxx.shape)\n",
    "print(f\"Frequency resolution:  {fs / Zxx.shape[0]} Hz\")"
   ]
  },
  {
   "cell_type": "markdown",
   "metadata": {},
   "source": [
    "plt.pcolormesh(t, f, np.abs(Zxx), shading='gouraud')\n",
    "plt.title('STFT Magnitude')\n",
    "plt.ylabel('Frequency [Hz]')\n",
    "plt.xlabel('Time [sec]')\n",
    "plt.colorbar(label=\"PSD\")\n",
    "plt.xlim([0, 20])\n",
    "plt.ylim([1900, 2100])\n",
    "plt.show()"
   ]
  },
  {
   "cell_type": "code",
   "execution_count": null,
   "metadata": {},
   "outputs": [],
   "source": [
    "plt.plot(time[::nperfft], np.max(Zxx_n, axis=0)[:-1])\n",
    "plt.xlabel(\"Time [s]\")\n",
    "plt.ylabel(\"Max PSD\")\n",
    "plt.xlim([0, 50])\n",
    "plt.show()"
   ]
  },
  {
   "cell_type": "code",
   "execution_count": null,
   "metadata": {},
   "outputs": [],
   "source": [
    "plt.plot(time[::nperfft], np.max(Zxx_n, axis=0)[:-1] - np.max(Zxx, axis=0)[:-1])"
   ]
  },
  {
   "cell_type": "code",
   "execution_count": null,
   "metadata": {},
   "outputs": [],
   "source": []
  }
 ],
 "metadata": {
  "kernelspec": {
   "display_name": "Python 3.9.13 ('nessai')",
   "language": "python",
   "name": "python3"
  },
  "language_info": {
   "codemirror_mode": {
    "name": "ipython",
    "version": 3
   },
   "file_extension": ".py",
   "mimetype": "text/x-python",
   "name": "python",
   "nbconvert_exporter": "python",
   "pygments_lexer": "ipython3",
   "version": "3.9.13"
  },
  "orig_nbformat": 4,
  "vscode": {
   "interpreter": {
    "hash": "786676c2b79ea3083d33564140095b694c86600aebef3a93c862747a18139607"
   }
  }
 },
 "nbformat": 4,
 "nbformat_minor": 2
}
